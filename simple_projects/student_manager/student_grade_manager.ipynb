{
 "cells": [
  {
   "cell_type": "markdown",
   "id": "a2c7d8c2",
   "metadata": {},
   "source": [
    "### Student Grade Manager"
   ]
  },
  {
   "cell_type": "code",
   "execution_count": 1,
   "id": "c57bd104",
   "metadata": {},
   "outputs": [
    {
     "name": "stdout",
     "output_type": "stream",
     "text": [
      "\n",
      " --- Student Grades ---\n",
      "Sudent 1: Score = 70, Grade = C\n",
      "Sudent 2: Score = 30, Grade = F\n",
      "Sudent 3: Score = 80, Grade = B\n",
      "Sudent 4: Score = 99, Grade = A\n",
      "Sudent 5: Score = 100, Grade = A\n",
      "Sudent 6: Score = 50, Grade = F\n",
      "Sudent 7: Score = 70, Grade = C\n",
      "\n",
      "--- Passing and Failing Students ---\n",
      "Passing students:  [70, 80, 99, 100, 70]\n",
      "Failing students:  [30, 50]\n"
     ]
    }
   ],
   "source": [
    "student_scores = input(\"Enter student scores separated by comas: \")\n",
    "scores = [int(score) for score in student_scores.split(\",\")]\n",
    "\n",
    "grades = [\n",
    "    \"A\" if score >= 90 else\n",
    "    \"B\" if score >= 80 else\n",
    "    \"C\" if score >= 70 else\n",
    "    \"D\" if score >= 60 else\n",
    "    \"F\"\n",
    "    for score in scores\n",
    "]\n",
    "\n",
    "passing_students = [score for score in scores if score >= 60]\n",
    "failing_students = [score for score in scores if score < 60]\n",
    "\n",
    "print(\"\\n --- Student Grades ---\")\n",
    "for i, (score, grade) in enumerate(zip(scores, grades), start=1):\n",
    "    print(f\"Sudent {i}: Score = {score}, Grade = {grade}\")\n",
    "\n",
    "print(\"\\n--- Passing and Failing Students ---\")\n",
    "print(\"Passing students: \", passing_students)\n",
    "print(\"Failing students: \", failing_students)"
   ]
  },
  {
   "cell_type": "markdown",
   "id": "fc11816c",
   "metadata": {},
   "source": [
    "### Sudent Report Generator"
   ]
  },
  {
   "cell_type": "code",
   "execution_count": 3,
   "id": "0497adae",
   "metadata": {},
   "outputs": [
    {
     "name": "stdout",
     "output_type": "stream",
     "text": [
      "Student reports were generated in <_io.TextIOWrapper name='student_report.csv' mode='w' encoding='UTF-8'> successfully\n"
     ]
    }
   ],
   "source": [
    "import csv\n",
    "\n",
    "def process_student_data(input_file, output_file):\n",
    "    try:\n",
    "        with open(input_file, 'r') as infile:\n",
    "            reader = csv.DictReader(infile)\n",
    "            student_reports = []\n",
    "            for row in reader:\n",
    "                name = row['Name']\n",
    "                math = int(row['Math'])\n",
    "                science = int(row['Science'])\n",
    "                english = int(row['English'])\n",
    "                average = round((math + science + english) / 3, 2)\n",
    "                status = \"Pass\" if average >= 60 else \"Fail\"\n",
    "                \n",
    "                student_reports.append({\n",
    "                 'Name': name,\n",
    "                 'Math': math,\n",
    "                 'Science': science, \n",
    "                 'English': english, \n",
    "                 'Average': average,\n",
    "                 'Status': status   \n",
    "                })\n",
    "            \n",
    "        with open(output_file, 'w') as outfile:\n",
    "            fieldnames = ['Name', 'Math', 'Science', 'English', 'Average', 'Status']\n",
    "            writer = csv.DictWriter(outfile, fieldnames=fieldnames)\n",
    "            writer.writeheader()\n",
    "            writer.writerows(student_reports)\n",
    "        \n",
    "        print(f\"Student reports were generated in {outfile} successfully\")\n",
    "        \n",
    "    except FileNotFoundError:\n",
    "        print(f\"Error: file '{input_file}' not found\")\n",
    "    except KeyError:\n",
    "        print(\"Error: Invalid column names in the input file\")\n",
    "    except Exception as e:\n",
    "        print(f\"An error occurred: {e}\")\n",
    "        \n",
    "input_file = \"students.csv\"\n",
    "outpit_file = \"student_report.csv\"\n",
    "process_student_data(input_file, outpit_file)"
   ]
  }
 ],
 "metadata": {
  "kernelspec": {
   "display_name": "Python 3",
   "language": "python",
   "name": "python3"
  },
  "language_info": {
   "codemirror_mode": {
    "name": "ipython",
    "version": 3
   },
   "file_extension": ".py",
   "mimetype": "text/x-python",
   "name": "python",
   "nbconvert_exporter": "python",
   "pygments_lexer": "ipython3",
   "version": "3.11.12"
  }
 },
 "nbformat": 4,
 "nbformat_minor": 5
}
