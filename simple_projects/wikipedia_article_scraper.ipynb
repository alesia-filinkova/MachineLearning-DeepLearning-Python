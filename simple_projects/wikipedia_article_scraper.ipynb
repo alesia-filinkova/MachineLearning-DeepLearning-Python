{
 "cells": [
  {
   "cell_type": "markdown",
   "id": "4e975ec5",
   "metadata": {},
   "source": [
    "### Wikipedia Article Scraper"
   ]
  },
  {
   "cell_type": "code",
   "execution_count": 1,
   "id": "3ea0b89e",
   "metadata": {},
   "outputs": [
    {
     "name": "stdout",
     "output_type": "stream",
     "text": [
      "Defaulting to user installation because normal site-packages is not writeable\n",
      "Requirement already satisfied: requests in /usr/lib/python3/dist-packages (2.31.0)\n",
      "Requirement already satisfied: beautifulsoup4 in /home/alesia/.local/lib/python3.11/site-packages (4.13.3)\n",
      "Requirement already satisfied: soupsieve>1.2 in /home/alesia/.local/lib/python3.11/site-packages (from beautifulsoup4) (2.6)\n",
      "Requirement already satisfied: typing-extensions>=4.0.0 in /home/alesia/.local/lib/python3.11/site-packages (from beautifulsoup4) (4.14.1)\n",
      "Note: you may need to restart the kernel to use updated packages.\n"
     ]
    }
   ],
   "source": [
    "pip install requests beautifulsoup4"
   ]
  },
  {
   "cell_type": "code",
   "execution_count": 2,
   "id": "0d7fa896",
   "metadata": {},
   "outputs": [],
   "source": [
    "import requests\n",
    "from bs4 import BeautifulSoup"
   ]
  },
  {
   "cell_type": "code",
   "execution_count": 4,
   "id": "c113578b",
   "metadata": {},
   "outputs": [],
   "source": [
    "def get_wikipedia_page(topic):\n",
    "    url = f\"https://en.wikipedia.org/wiki/{topic.replace(' ', '_')}\"\n",
    "    response = requests.get(url)\n",
    "    if response.status_code == 200:\n",
    "        return response.text\n",
    "    else:\n",
    "        print(f\"Failed to retrieve data. Status code: {response.status_code}. Check the topic and try again\")\n",
    "        return None"
   ]
  },
  {
   "cell_type": "code",
   "execution_count": 5,
   "id": "96407375",
   "metadata": {},
   "outputs": [],
   "source": [
    "def get_article_title(soup):\n",
    "    return soup.find(\"h1\").text"
   ]
  },
  {
   "cell_type": "code",
   "execution_count": 8,
   "id": "b39c37d1",
   "metadata": {},
   "outputs": [],
   "source": [
    "def get_article_summary(soup):\n",
    "    paragraphs = soup.find_all(\"p\")\n",
    "    for para in paragraphs:\n",
    "        if para.text.strip():\n",
    "            return para.text.strip()\n",
    "    return \"No summary founs\""
   ]
  },
  {
   "cell_type": "code",
   "execution_count": 9,
   "id": "18ca4027",
   "metadata": {},
   "outputs": [],
   "source": [
    "def get_article_headings(soup):\n",
    "    headings = [heading.text.strip() for heading in soup.find_all(['h2', 'h3', 'h4'])]\n",
    "    return headings"
   ]
  },
  {
   "cell_type": "code",
   "execution_count": 10,
   "id": "7f21f500",
   "metadata": {},
   "outputs": [],
   "source": [
    "def get_related_links(soup):\n",
    "    links = []\n",
    "    for a_tag in soup.find_all('a', href=True):\n",
    "        href = a_tag['href']\n",
    "        if href.startswith('/wiki/') and \":\" not in href:\n",
    "            links.append(f\"https://en.wikipedia.org{href}\")\n",
    "    return list(set(links))[:5]"
   ]
  },
  {
   "cell_type": "code",
   "execution_count": 11,
   "id": "28abf708",
   "metadata": {},
   "outputs": [],
   "source": [
    "def print_article(title, summary, headings, related_links):\n",
    "    print(f\"\\nTitle: {title}\")\n",
    "    print(f\"\\nSummary: {summary}\")\n",
    "    \n",
    "    print(f\"\\nHeadings:\")\n",
    "    for heading in headings:\n",
    "        print(f\"- {heading}\")\n",
    "    \n",
    "    print(f\"\\nRelated Links: \")\n",
    "    for link in related_links:\n",
    "        print(f\"- {link}\")"
   ]
  },
  {
   "cell_type": "code",
   "execution_count": 12,
   "id": "680958cc",
   "metadata": {},
   "outputs": [],
   "source": [
    "def main():\n",
    "    topic = input(\"Enter a topic to search in Wikipedia: \").strip()\n",
    "    page_content = get_wikipedia_page(topic)\n",
    "    \n",
    "    if page_content:\n",
    "        soup = BeautifulSoup(page_content, 'html.parser')\n",
    "        title = get_article_title(soup)\n",
    "        summary = get_article_summary(soup)\n",
    "        headings = get_article_headings(soup)\n",
    "        related_links = get_related_links(soup)\n",
    "        print_article(title, summary, headings, related_links)"
   ]
  },
  {
   "cell_type": "code",
   "execution_count": 13,
   "id": "cad7a7c0",
   "metadata": {},
   "outputs": [
    {
     "name": "stdout",
     "output_type": "stream",
     "text": [
      "\n",
      "Title: Python (programming language)\n",
      "\n",
      "Summary: Python is a high-level, general-purpose programming language. Its design philosophy emphasizes code readability with the use of significant indentation.[34]\n",
      "\n",
      "Headings:\n",
      "- Contents\n",
      "- History\n",
      "- Design philosophy and features\n",
      "- Syntax and semantics\n",
      "- Indentation\n",
      "- Statements and control flow\n",
      "- Expressions\n",
      "- Methods\n",
      "- Typing\n",
      "- Arithmetic operations\n",
      "- Function syntax\n",
      "- Code examples\n",
      "- Libraries\n",
      "- Development environments\n",
      "- Implementations\n",
      "- Reference implementation\n",
      "- Other implementations\n",
      "- Unsupported implementations\n",
      "- Cross-compilers to other languages\n",
      "- Performance\n",
      "- Language Development\n",
      "- API documentation generators\n",
      "- Naming\n",
      "- Popularity\n",
      "- Types of Use\n",
      "- Languages influenced by Python\n",
      "- See also\n",
      "- Notes\n",
      "- References\n",
      "- Sources\n",
      "- Further reading\n",
      "- External links\n",
      "\n",
      "Related Links: \n",
      "- https://en.wikipedia.org/wiki/Copyleft\n",
      "- https://en.wikipedia.org/wiki/JavaScript\n",
      "- https://en.wikipedia.org/wiki/PyQt\n",
      "- https://en.wikipedia.org/wiki/Release_candidate\n",
      "- https://en.wikipedia.org/wiki/AmigaOS_4\n"
     ]
    }
   ],
   "source": [
    "if __name__ == \"__main__\":\n",
    "    main()"
   ]
  }
 ],
 "metadata": {
  "kernelspec": {
   "display_name": "Python 3",
   "language": "python",
   "name": "python3"
  },
  "language_info": {
   "codemirror_mode": {
    "name": "ipython",
    "version": 3
   },
   "file_extension": ".py",
   "mimetype": "text/x-python",
   "name": "python",
   "nbconvert_exporter": "python",
   "pygments_lexer": "ipython3",
   "version": "3.11.12"
  }
 },
 "nbformat": 4,
 "nbformat_minor": 5
}
