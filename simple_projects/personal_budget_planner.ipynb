{
 "cells": [
  {
   "cell_type": "code",
   "execution_count": 1,
   "id": "f1907a10",
   "metadata": {},
   "outputs": [],
   "source": [
    "import matplotlib.pyplot as plt\n",
    "from collections import defaultdict\n",
    "\n",
    "expenses = []"
   ]
  },
  {
   "cell_type": "code",
   "execution_count": 2,
   "id": "e6acb7bc",
   "metadata": {},
   "outputs": [],
   "source": [
    "def set_savings_goal():\n",
    "    goal = float(input(\"Enter your monthly savings goal: \"))\n",
    "    print(f\"Your savings goal is set to ${goal:.2f}\")\n",
    "    return goal"
   ]
  },
  {
   "cell_type": "code",
   "execution_count": 3,
   "id": "6d2226c6",
   "metadata": {},
   "outputs": [],
   "source": [
    "def add_income():\n",
    "    income = float(input(\"Enter your income amount: \"))\n",
    "    print(f\"Income of ${income:.2f} added.\")\n",
    "    return income"
   ]
  },
  {
   "cell_type": "code",
   "execution_count": 4,
   "id": "6f733b7e",
   "metadata": {},
   "outputs": [],
   "source": [
    "def add_expense():\n",
    "    category = input(\"Enter expense category (eg, Food, Housing,..): \").capitalize()\n",
    "    amount = float(input(\"Enter expense amount: \"))\n",
    "    expenses.append({\"category\": category, \"amount\": amount})\n",
    "    print(f\"Expense of ${amount:.2f} added under {category}\")"
   ]
  },
  {
   "cell_type": "code",
   "execution_count": 5,
   "id": "1f6fcbca",
   "metadata": {},
   "outputs": [],
   "source": [
    "def view_expenses_by_category():\n",
    "    category_totals = defaultdict(float)\n",
    "    for expense in expenses:\n",
    "        category_totals[expense[\"category\"]] += expense[\"amount\"]\n",
    "    print(\"\\nExpenses by Category:\")\n",
    "    for category, total in category_totals.items():\n",
    "        print(f\"{category}: ${total:.2f}\")"
   ]
  },
  {
   "cell_type": "code",
   "execution_count": 6,
   "id": "977e0c91",
   "metadata": {},
   "outputs": [],
   "source": [
    "def calculate_remaining_budget(income, expenses):\n",
    "    total_expenses = sum(expense[\"amount\"] for expense in expenses)\n",
    "    remaining = income - total_expenses\n",
    "    print(f\"Total Expenses: ${total_expenses:.2f}\")\n",
    "    print(f\"Remaining Budget: ${remaining:.2f}\")\n",
    "    return remaining"
   ]
  },
  {
   "cell_type": "code",
   "execution_count": 7,
   "id": "e1e5ee8e",
   "metadata": {},
   "outputs": [],
   "source": [
    "def check_savings_goal(remaining, goal):\n",
    "    if remaining >= goal:\n",
    "        print(f\"Congratulations! You have met your savings goal with ${remaining - goal:.2f} extra.\")\n",
    "    else:\n",
    "        print(f\"You are ${goal - remaining:.2f} away from your savings goal.\")"
   ]
  },
  {
   "cell_type": "code",
   "execution_count": 9,
   "id": "c173ff3f",
   "metadata": {},
   "outputs": [],
   "source": [
    "def plot_expenses():\n",
    "    category_totals = defaultdict(float)\n",
    "    for expense in expenses:\n",
    "        category_totals[expense[\"category\"]] += expense[\"amount\"]\n",
    "    labels = category_totals.keys()\n",
    "    sizes = category_totals.values()\n",
    "    plt.pie(sizes, labels=labels, autopct=\"%1.1f%%\")\n",
    "    plt.title(\"Expense Distribution\")\n",
    "    plt.show()"
   ]
  },
  {
   "cell_type": "code",
   "execution_count": 10,
   "id": "89de4712",
   "metadata": {},
   "outputs": [],
   "source": [
    "def main():\n",
    "    print(\"Welcome to the Personal Budget Planner!\")\n",
    "    goal = set_savings_goal()\n",
    "    income = add_income()\n",
    "    \n",
    "    while True:\n",
    "        print(\"\\nOptions:\")\n",
    "        print(\"1. Add Expense\")\n",
    "        print(\"2. View Expenses by Category\")\n",
    "        print(\"3. Calculate Remaining Budget\")\n",
    "        print(\"4. Check Savings Goal\")\n",
    "        print(\"5. Visualize Expenses\")\n",
    "        print(\"6. Exit\")\n",
    "        choice = input(\"Enter your choice: \")\n",
    "        \n",
    "        if choice == \"1\":\n",
    "            add_expense()\n",
    "        elif choice == \"2\":\n",
    "            view_expenses_by_category()\n",
    "        elif choice == \"3\":\n",
    "            calculate_remaining_budget(income, expenses)\n",
    "        elif choice == \"4\":\n",
    "            remaining = calculate_remaining_budget(income, expenses)\n",
    "            check_savings_goal(remaining, goal)\n",
    "        elif choice == \"5\":\n",
    "            plot_expenses()\n",
    "        elif choice == \"6\":\n",
    "            print(\"Goodbye!\")\n",
    "            break\n",
    "        else:\n",
    "            print(\"Invalid choice. Please try again.\")"
   ]
  },
  {
   "cell_type": "code",
   "execution_count": 11,
   "id": "9e41a996",
   "metadata": {},
   "outputs": [
    {
     "name": "stdout",
     "output_type": "stream",
     "text": [
      "Welcome to the Personal Budget Planner!\n",
      "Your savings goal is set to $1.00\n",
      "Income of $10.54 added.\n",
      "\n",
      "Options:\n",
      "1. Add Expense\n",
      "2. View Expenses by Category\n",
      "3. Calculate Remaining Budget\n",
      "4. Check Savings Goal\n",
      "5. Visualize Expenses\n",
      "6. Exit\n",
      "\n",
      "Expenses by Category:\n",
      "\n",
      "Options:\n",
      "1. Add Expense\n",
      "2. View Expenses by Category\n",
      "3. Calculate Remaining Budget\n",
      "4. Check Savings Goal\n",
      "5. Visualize Expenses\n",
      "6. Exit\n",
      "Total Expenses: $0.00\n",
      "Remaining Budget: $10.54\n",
      "\n",
      "Options:\n",
      "1. Add Expense\n",
      "2. View Expenses by Category\n",
      "3. Calculate Remaining Budget\n",
      "4. Check Savings Goal\n",
      "5. Visualize Expenses\n",
      "6. Exit\n",
      "Total Expenses: $0.00\n",
      "Remaining Budget: $10.54\n",
      "Congratulations! You have met your savings goal with $9.54 extra.\n",
      "\n",
      "Options:\n",
      "1. Add Expense\n",
      "2. View Expenses by Category\n",
      "3. Calculate Remaining Budget\n",
      "4. Check Savings Goal\n",
      "5. Visualize Expenses\n",
      "6. Exit\n"
     ]
    },
    {
     "data": {
      "image/png": "[encoded data removed]",
      "text/plain": [
       "<Figure size 640x480 with 1 Axes>"
      ]
     },
     "metadata": {},
     "output_type": "display_data"
    },
    {
     "name": "stdout",
     "output_type": "stream",
     "text": [
      "\n",
      "Options:\n",
      "1. Add Expense\n",
      "2. View Expenses by Category\n",
      "3. Calculate Remaining Budget\n",
      "4. Check Savings Goal\n",
      "5. Visualize Expenses\n",
      "6. Exit\n",
      "Goodbye!\n"
     ]
    }
   ],
   "source": [
    "if __name__ == \"__main__\":\n",
    "    main()"
   ]
  }
 ],
 "metadata": {
  "kernelspec": {
   "display_name": "Python 3",
   "language": "python",
   "name": "python3"
  },
  "language_info": {
   "codemirror_mode": {
    "name": "ipython",
    "version": 3
   },
   "file_extension": ".py",
   "mimetype": "text/x-python",
   "name": "python",
   "nbconvert_exporter": "python",
   "pygments_lexer": "ipython3",
   "version": "3.11.13"
  }
 },
 "nbformat": 4,
 "nbformat_minor": 5
}
